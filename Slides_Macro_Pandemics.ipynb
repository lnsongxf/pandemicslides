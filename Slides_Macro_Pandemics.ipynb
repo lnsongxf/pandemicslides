{
 "cells": [
  {
   "cell_type": "code",
   "execution_count": 1,
   "metadata": {
    "slideshow": {
     "slide_type": "skip"
    }
   },
   "outputs": [
    {
     "ename": "LoadError",
     "evalue": "syntax: extra token \"IPython\" after end of expression",
     "output_type": "error",
     "traceback": [
      "syntax: extra token \"IPython\" after end of expression",
      ""
     ]
    }
   ],
   "source": [
    "from IPython.display import HTML\n",
    "HTML('''<script>\n",
    "  function code_toggle() {\n",
    "    if (code_shown){\n",
    "      $('div.input').hide('500');\n",
    "      $('#toggleButton').val('Show Code')\n",
    "    } else {\n",
    "      $('div.input').show('500');\n",
    "      $('#toggleButton').val('Hide Code')\n",
    "    }\n",
    "    code_shown = !code_shown\n",
    "  }\n",
    "\n",
    "  $( document ).ready(function(){\n",
    "    code_shown=false;\n",
    "    $('div.input').hide()\n",
    "  });\n",
    "</script>\n",
    "<form action=\"javascript:code_toggle()\"><input type=\"submit\" id=\"toggleButton\" value=\"Show Code\"></form>''')"
   ]
  },
  {
   "cell_type": "code",
   "execution_count": 6,
   "metadata": {
    "scrolled": true,
    "slideshow": {
     "slide_type": "skip"
    }
   },
   "outputs": [
    {
     "ename": "LoadError",
     "evalue": "syntax: extra token \"as\" after end of expression",
     "output_type": "error",
     "traceback": [
      "syntax: extra token \"as\" after end of expression",
      ""
     ]
    }
   ],
   "source": [
    "#%matplotlib inline\n",
    "import matplotlib.pyplot as plt\n",
    "import matplotlib.mlab as mlab\n",
    "import matplotlib.patches as patches\n",
    "#plt.style.reload_library()\n",
    "#plt.style.use(\"ggplot\")\n",
    "from IPython.display import (\n",
    "    display_pretty, display_html, display_jpeg,\n",
    "    display_png, display_json, display_latex, display_svg\n",
    ")\n",
    "#import numpy as np\n",
    "#import pandas as pd\n",
    "#from pandas_datareader import data, wb\n",
    "#from scipy import linalg, optimize\n",
    "#from datetime import datetime, date, timedelta\n",
    "from IPython.display import Audio\n",
    "from IPython.display import YouTubeVideo\n",
    "from IPython.display import HTML\n",
    "from IPython.display import Latex\n",
    "from IPython.display import Image\n",
    "from IPython.display import display\n",
    "from IPython.display import SVG\n",
    "\n",
    "import Dates\n"
   ]
  },
  {
   "cell_type": "markdown",
   "metadata": {
    "slideshow": {
     "slide_type": "slide"
    }
   },
   "source": [
    "## <center>Economics of a (Historical) Pandemic</center>\n",
    "### <center>The Black Death in the 14th Century</center>\n",
    "<center><img src='Material/plague.jpg' width='600' height='80'/></center>\n",
    "<center>2nd April 2020</center>\n"
   ]
  },
  {
   "cell_type": "markdown",
   "metadata": {
    "slideshow": {
     "slide_type": "slide"
    }
   },
   "source": [
    "### The Black Death\n",
    "- A bubonic plague that struck Europe and Asia in 14th century.\n",
    "- Europe's population decreased from 94 million in 1300 to 68 million in 1400, falling more than a quarter.\n",
    "- Most severe in England, which lost almost half the population, falling from 12 million to 6 million. Did not return to 12 million until the early 18th century.\n",
    "- Italy lost at least a third of the population, likely that Egypt and Syria saw similar loses.\n",
    "- Tragic loss of life. What were some Economic implications?"
   ]
  },
  {
   "cell_type": "markdown",
   "metadata": {
    "slideshow": {
     "slide_type": "slide"
    }
   },
   "source": [
    "## Higher wages, lower price of land.\n",
    "- \"such a shortage of labourers ensued that the humble turned up their noses at employment and could scarcely be persuaded to serve the eminent for triple wages.\" -- Chronicle of the Priory of Rochester\n",
    "- \"in spite of there being plenty of everything, it was all twice as expensive: household equipment and foodstuffs, as well as merchandise, hired labour, farm workers and servants. The only exception was property and houses, of which there is a glut to this day.\" -- Friar Jean de Venette"
   ]
  },
  {
   "cell_type": "markdown",
   "metadata": {
    "slideshow": {
     "slide_type": "slide"
    }
   },
   "source": [
    "## Higher wages, lower price of land.\n",
    "- Farm wages in rural England. Measured by amount of grain you could buy with one-days wages.\n",
    "<center><img src='Material/GrainPrices.png' width='600' height='80'/></center>"
   ]
  },
  {
   "cell_type": "markdown",
   "metadata": {
    "slideshow": {
     "slide_type": "slide"
    }
   },
   "source": [
    "## Higher wages, lower price of land.\n",
    "- Easily understood as a decreased supply of labor (less people, especially working-age adults).\n",
    "<center><img src='Material/DecreasedLaborSupply.png' width='600' height='80'/></center>"
   ]
  },
  {
   "cell_type": "markdown",
   "metadata": {
    "slideshow": {
     "slide_type": "slide"
    }
   },
   "source": [
    "## Higher wages, lower price of land.\n",
    "- People bought more 'luxury' goods: more cropland was dedicated to fruits, less to wheat.\n",
    "- People spent less on (boring!) wheat, more on meat, cheese and barley (beer).\n",
    "- House prices fell. Land incomes of English rentiers fell by 20 to 30 percent in first half of 15th century.\n",
    "- To protect the status of Nobles, in 1337 England's Parliament decreed only those with income of (immense sum of) at least 1,000 pounds were allowed to wear furs, a marker of status. By 1363, law became everyone except the lowliest manual labourers could wear furs; poor were restricted to rabbit and cat, and only the rich could wear stoat (ermine) and mink."
   ]
  },
  {
   "cell_type": "markdown",
   "metadata": {
    "slideshow": {
     "slide_type": "slide"
    }
   },
   "source": [
    "## Landowners tried to stop this:\n",
    "- England passed multiple laws (was ruled by Monarchy-Nobility, workers had no vote).\n",
    "- \"said employees,...to their own ease and exceptional greed, withdraw themselves to work for great men and others, unless they are paid livery and wages double or treble what they were accustomed to receive in the said twentieth year and earlier, to the great damage of the great men\" -- Statue of Labourers of 1351, made it illegal to request, or to pay, more than pre-plague wages.\n",
    "- These laws failed.\n",
    "- King Richard II of England, speech to Peasants in 1383: \"[Y]ou who seek equality with lords are unworthy to live. Give this message to your colleagues: rustics you were, and rustics you are still; you will remain in bondage, not as before, but incomparably harsher.\""
   ]
  },
  {
   "cell_type": "markdown",
   "metadata": {
    "slideshow": {
     "slide_type": "slide"
    }
   },
   "source": [
    "## Landowners tried to stop this:\n",
    "- Outcomes depend on legal-political-power structures:\n",
    "- Hungary, Poland, Prussia introduced serfdom as response to Black Death. So no increase in incomes for labourers.\n",
    "- Egypt: At time of Black Death the Mamluk ruling class individuals owned land, but it was all managed by central collectivized organization which paid iqta (think dividends). As a monopsony (sole buyer/employer) it could set and enforce low wages. By comparison Egypt in 6th-8th centuries saw a series of Epidemics and wages doubled (we think, data is rough), at this time land was held directly by individuals so landlords competed to hire."
   ]
  },
  {
   "cell_type": "markdown",
   "metadata": {
    "slideshow": {
     "slide_type": "slide"
    }
   },
   "source": [
    "### Present Relevance?\n",
    "- Even in worst effected countries today, death tolls are less than 1% of population, nothing like a quarter of the population, let alone half. So unlikely to see effects of similar magnitude.\n",
    "- Also, this was before the Industrial Revolution (late 18th/early 19th century). So abundance/scarcity of population was at that time an important determinant of incomes and wages. (Thomas Malthus, and Malthusian Economics; population mattered for incomes. Since Industrial Revolution level of population matters very little.)\n",
    "- But may see similar effect in certain sectors: e.g., farming in New Zealand is dependent on migrant labor (both Pacific Islanders on temporary work visas and Europeans looking to extend working holiday visas), current travel restrictions have caused large decrease in supply of both so will likely see wages rise."
   ]
  },
  {
   "cell_type": "markdown",
   "metadata": {
    "slideshow": {
     "slide_type": "slide"
    }
   },
   "source": [
    "## Loose Ends\n",
    "- Focus on Europe reflects data availability (meagre in Europe, almost non-existent everywhere else).\n",
    "- Black Plague was a bubonic plague, contracted by getting bitten by fleas that lived mostly on rats."
   ]
  },
  {
   "cell_type": "markdown",
   "metadata": {
    "slideshow": {
     "slide_type": "slide"
    }
   },
   "source": [
    "## References\n",
    "- Scheidel, W. (2017) The Great Leveler: Violence and Inequality from the Stone Age to the Twenty-First Century, Chapters 10 and 11.\n",
    "- Grain wages figure is from Clark, G. (2007), The long march of history: Farm wages, population, and economic growth, England 1209–1869, European History Review.\n",
    "- Painting is The Triumph of Death by Pieter Bruegel the Elder, located the Museo del Prado, Madrid. (No specifically of the Black Death, was painted two centuries later)"
   ]
  },
  {
   "cell_type": "code",
   "execution_count": null,
   "metadata": {},
   "outputs": [],
   "source": []
  }
 ],
 "metadata": {
  "celltoolbar": "Slideshow",
  "kernelspec": {
   "display_name": "Julia 1.0.3",
   "language": "julia",
   "name": "julia-1.0"
  },
  "language_info": {
   "file_extension": ".jl",
   "mimetype": "application/julia",
   "name": "julia",
   "version": "1.0.3"
  }
 },
 "nbformat": 4,
 "nbformat_minor": 1
}
